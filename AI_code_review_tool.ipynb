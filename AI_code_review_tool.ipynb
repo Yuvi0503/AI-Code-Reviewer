{
  "nbformat": 4,
  "nbformat_minor": 0,
  "metadata": {
    "colab": {
      "provenance": [],
      "include_colab_link": true
    },
    "kernelspec": {
      "name": "python3",
      "display_name": "Python 3"
    },
    "language_info": {
      "name": "python"
    }
  },
  "cells": [
    {
      "cell_type": "markdown",
      "metadata": {
        "id": "view-in-github",
        "colab_type": "text"
      },
      "source": [
        "<a href=\"https://colab.research.google.com/github/Yuvi0503/AI-Code-Reviewer/blob/main/AI_code_review_tool.ipynb\" target=\"_parent\"><img src=\"https://colab.research.google.com/assets/colab-badge.svg\" alt=\"Open In Colab\"/></a>"
      ]
    },
    {
      "cell_type": "code",
      "source": [
        "pip install xgboost"
      ],
      "metadata": {
        "colab": {
          "base_uri": "https://localhost:8080/"
        },
        "id": "L5FdyzZTmXV0",
        "outputId": "df750026-3b0d-4c5e-b7b4-805624592904"
      },
      "execution_count": null,
      "outputs": [
        {
          "output_type": "stream",
          "name": "stdout",
          "text": [
            "Requirement already satisfied: xgboost in /usr/local/lib/python3.11/dist-packages (2.1.4)\n",
            "Requirement already satisfied: numpy in /usr/local/lib/python3.11/dist-packages (from xgboost) (2.0.2)\n",
            "Requirement already satisfied: nvidia-nccl-cu12 in /usr/local/lib/python3.11/dist-packages (from xgboost) (2.21.5)\n",
            "Requirement already satisfied: scipy in /usr/local/lib/python3.11/dist-packages (from xgboost) (1.14.1)\n"
          ]
        }
      ]
    },
    {
      "cell_type": "code",
      "execution_count": null,
      "metadata": {
        "id": "ATCaJVXeKY6F",
        "colab": {
          "base_uri": "https://localhost:8080/"
        },
        "outputId": "a2fb5e1e-f920-4e13-ff13-73f8f9f99e6b"
      },
      "outputs": [
        {
          "output_type": "stream",
          "name": "stdout",
          "text": [
            "⚠️ Syntax error in code:\n",
            "class Calculator:\n",
            " def multiply(self, x, y) return x * y\n",
            "⚠️ Syntax error in code:\n",
            "def factorial(n):\n",
            "    if n = 0:\n",
            "        return 1\n",
            "    return n * factorial(n-1)\n",
            "⚠️ Syntax error in code:\n",
            "def factorial(n):\n",
            "    if n = 0:\n",
            "        return 1\n",
            "    return n * factorial(n-1)\n",
            "⚠️ Syntax error in code:\n",
            "class Calculator:\n",
            " def multiply(self, x, y) return x * y\n",
            "⚠️ Syntax error in code:\n",
            "class Calculator:\n",
            " def multiply(self, x, y) return x * y\n",
            "⚠️ Syntax error in code:\n",
            "def factorial(n):\n",
            "    if n = 0:\n",
            "        return 1\n",
            "    return n * factorial(n-1)\n",
            "⚠️ Syntax error in code:\n",
            "class Calculator:\n",
            " def multiply(self, x, y) return x * y\n",
            "⚠️ Syntax error in code:\n",
            "def add(a, b)\n",
            "    return a + b\n",
            "⚠️ Syntax error in code:\n",
            "class Calculator:\n",
            " def multiply(self, x, y) return x * y\n",
            "⚠️ Syntax error in code:\n",
            "class Person:\n",
            "    def __init__(self, name, age):\n",
            "    self.name = name\n",
            "    self.age = age\n",
            "⚠️ Syntax error in code:\n",
            "class Calculator:\n",
            " def multiply(self, x, y) return x * y\n",
            "⚠️ Syntax error in code:\n",
            "class Calculator:\n",
            " def multiply(self, x, y) return x * y\n",
            "⚠️ Syntax error in code:\n",
            "def is_even(n):\n",
            "    if n % 2:\n",
            "        return False\n",
            "    else n % 2 == 0:\n",
            "        return True\n",
            "⚠️ Syntax error in code:\n",
            "class Calculator:\n",
            " def multiply(self, x, y) return x * y\n",
            "⚠️ Syntax error in code:\n",
            "class Person:\n",
            "    def __init__(self, name, age):\n",
            "    self.name = name\n",
            "    self.age = age\n",
            "\n",
            "🔹 Accuracy: 0.9\n",
            "\n",
            "🔹 Classification Report:\n",
            "               precision    recall  f1-score   support\n",
            "\n",
            "           0       0.78      1.00      0.88         7\n",
            "           1       1.00      0.85      0.92        13\n",
            "\n",
            "    accuracy                           0.90        20\n",
            "   macro avg       0.89      0.92      0.90        20\n",
            "weighted avg       0.92      0.90      0.90        20\n",
            "\n"
          ]
        },
        {
          "output_type": "stream",
          "name": "stderr",
          "text": [
            "[nltk_data] Downloading package punkt to /root/nltk_data...\n",
            "[nltk_data]   Package punkt is already up-to-date!\n",
            "/usr/local/lib/python3.11/dist-packages/xgboost/core.py:158: UserWarning: [13:27:03] WARNING: /workspace/src/learner.cc:740: \n",
            "Parameters: { \"use_label_encoder\" } are not used.\n",
            "\n",
            "  warnings.warn(smsg, UserWarning)\n"
          ]
        }
      ],
      "source": [
        "import nltk\n",
        "import ast\n",
        "import numpy as np\n",
        "import pandas as pd\n",
        "import random\n",
        "from nltk.tokenize import word_tokenize\n",
        "from xgboost import XGBClassifier\n",
        "from imblearn.over_sampling import SMOTE\n",
        "from sklearn.feature_extraction.text import TfidfVectorizer\n",
        "from sklearn.model_selection import train_test_split\n",
        "from sklearn.ensemble import RandomForestClassifier\n",
        "from sklearn.metrics import accuracy_score, classification_report\n",
        "\n",
        "# Download necessary NLTK data\n",
        "nltk.download(\"punkt\")\n",
        "\n",
        "# === Expanded Sample Dataset ===\n",
        "# === GOOD CODE EXAMPLES ===\n",
        "good_code_samples = [\n",
        "    (\"def add(a, b):\\n    return a + b\", \"Good\"),\n",
        "    (\"class Calculator:\\n    def multiply(self, x, y):\\n        return x * y\", \"Good\"),\n",
        "    (\"def factorial(n):\\n    return 1 if n == 0 else n * factorial(n-1)\", \"Good\"),\n",
        "    (\"def is_even(n):\\n    return n % 2 == 0\", \"Good\"),\n",
        "    (\"def greet(name):\\n    print(f'Hello, {name}!')\", \"Good\"),\n",
        "    (\"def square_list(numbers):\\n    return [x**2 for x in numbers]\", \"Good\"),\n",
        "    (\"class Person:\\n    def __init__(self, name, age):\\n        self.name = name\\n        self.age = age\", \"Good\"),\n",
        "    (\"def read_file(filename):\\n    with open(filename, 'r') as file:\\n        return file.read()\", \"Good\"),\n",
        "    (\"def fibonacci(n):\\n    a, b = 0, 1\\n    for _ in range(n):\\n        a, b = b, a + b\\n    return a\", \"Good\"),\n",
        "    (\"def reverse_string(s):\\n    return s[::-1]\", \"Good\"),\n",
        "]\n",
        "\n",
        "# === BAD CODE EXAMPLES ===\n",
        "bad_code_samples = [\n",
        "    (\"def add(a, b)\\n    return a + b\", \"Bad\"),  # Missing colon\n",
        "    (\"class Calculator:\\n def multiply(self, x, y) return x * y\", \"Bad\"),  # Missing colon\n",
        "    (\"def factorial(n):\\n    if n = 0:\\n        return 1\\n    return n * factorial(n-1)\", \"Bad\"),  # Syntax error (= instead of ==)\n",
        "    (\"def is_even(n):\\n    if n % 2:\\n        return False\\n    else n % 2 == 0:\\n        return True\", \"Bad\"),  # Wrong logic\n",
        "    (\"def greet(name):\\n    print('Hello, ' + name)\", \"Bad\"),  # Missing f-string\n",
        "    (\"def square_list(numbers):\\n    result = []\\n    for num in numbers:\\n        result.append(num**2)\", \"Bad\"),  # No return statement\n",
        "    (\"class Person:\\n    def __init__(self, name, age):\\n    self.name = name\\n    self.age = age\", \"Bad\"),  # Indentation error\n",
        "    (\"def read_file(filename):\\n    file = open(filename, 'r')\\n    content = file.read()\\n    return content\", \"Bad\"),  # No file close\n",
        "    (\"def fibonacci(n):\\n    a = 0\\n    b = 1\\n    for i in range(n):\\n        sum = a + b\\n        a = b\\n        b = sum\", \"Bad\"),  # No return\n",
        "    (\"def reverse_string(s):\\n    return s.reverse()\", \"Bad\"),  # `reverse()` doesn’t work on strings\n",
        "]\n",
        "\n",
        "# === EXPAND TO 100 SAMPLES ===\n",
        "while len(good_code_samples) < 50:\n",
        "    good_code_samples.append(random.choice(good_code_samples))\n",
        "while len(bad_code_samples) < 50:\n",
        "    bad_code_samples.append(random.choice(bad_code_samples))\n",
        "\n",
        "# Combine all data\n",
        "data = good_code_samples + bad_code_samples\n",
        "random.shuffle(data)  # Shuffle to mix Good & Bad samples\n",
        "\n",
        "df = pd.DataFrame(data, columns=[\"code\", \"label\"])\n",
        "\n",
        "# === Feature Extraction Functions ===\n",
        "def tokenize_code(code):\n",
        "    \"\"\"Tokenizes the code without removing stopwords.\"\"\"\n",
        "    return word_tokenize(code)\n",
        "\n",
        "def extract_ast_features(code):\n",
        "    \"\"\"Extracts function names, class names, and variables with error handling.\"\"\"\n",
        "    try:\n",
        "        tree = ast.parse(code)\n",
        "        functions = [node.name for node in ast.walk(tree) if isinstance(node, ast.FunctionDef)]\n",
        "        classes = [node.name for node in ast.walk(tree) if isinstance(node, ast.ClassDef)]\n",
        "        variables = [node.id for node in ast.walk(tree) if isinstance(node, ast.Name)]\n",
        "        return \" \".join(functions + classes + variables)\n",
        "\n",
        "    except SyntaxError:\n",
        "        print(f\"⚠️ Syntax error in code:\\n{code}\")\n",
        "        return \"\"\n",
        "\n",
        "# Apply tokenization and AST feature extraction\n",
        "df[\"tokens\"] = df[\"code\"].apply(tokenize_code)\n",
        "df[\"ast_features\"] = df[\"code\"].apply(extract_ast_features)\n",
        "\n",
        "# Combine tokenized words and AST features\n",
        "df[\"processed_text\"] = df[\"tokens\"].apply(lambda x: \" \".join(x)) + \" \" + df[\"ast_features\"]\n",
        "\n",
        "# === Convert Text into Numerical Features ===\n",
        "vectorizer = TfidfVectorizer()\n",
        "X = vectorizer.fit_transform(df[\"processed_text\"])\n",
        "joblib.dump(vectorizer, \"tfidf_vectorizer.pkl\")  # Save fitted vectorizer\n",
        "\n",
        "y = df[\"label\"].map({\"Good\": 1, \"Bad\": 0})  # Convert labels to binary\n",
        "\n",
        "# === Train-Test Split ===\n",
        "X_train, X_test, y_train, y_test = train_test_split(X, y, test_size=0.2, random_state=42)\n",
        "\n",
        "\n",
        "# === Handle Class Imbalance with SMOTE ===\n",
        "smote = SMOTE(random_state=42)\n",
        "X_resampled, y_resampled = smote.fit_resample(X, y)\n",
        "\n",
        "\n",
        "# === Train XGBoost Classifier ===\n",
        "clf = XGBClassifier(use_label_encoder=False, eval_metric='logloss', random_state=42)\n",
        "clf.fit(X_train, y_train)\n",
        "\n",
        "# Save the trained XGBoost model\n",
        "joblib.dump(clf, \"xgboost_code_review.pkl\")\n",
        "\n",
        "# === Model Evaluation ===\n",
        "y_pred = clf.predict(X_test)\n",
        "print(\"\\n🔹 Accuracy:\", accuracy_score(y_test, y_pred))\n",
        "print(\"\\n🔹 Classification Report:\\n\", classification_report(y_test, y_pred))"
      ]
    },
    {
      "cell_type": "code",
      "source": [
        "import joblib\n",
        "\n",
        "class CodeReviewModel:\n",
        "    def __init__(self):\n",
        "        \"\"\"Load the trained XGBoost model and TF-IDF vectorizer.\"\"\"\n",
        "        self.model = joblib.load(\"xgboost_code_review.pkl\")\n",
        "        self.vectorizer = joblib.load(\"tfidf_vectorizer.pkl\")\n",
        "\n",
        "    def predict(self, code_snippet: str) -> str:\n",
        "        \"\"\"Predict if a code snippet is 'Good' or 'Bad'.\"\"\"\n",
        "        X_test = self.vectorizer.transform([code_snippet])\n",
        "\n",
        "        # Ensure feature size matches model expectations\n",
        "        if X_test.shape[1] != self.model.n_features_in_:\n",
        "            raise ValueError(f\"❌ Feature shape mismatch! Model expects {self.model.n_features_in_}, but got {X_test.shape[1]}.\")\n",
        "\n",
        "        prediction = self.model.predict(X_test)\n",
        "        return \"Good\" if prediction[0] == 1 else \"Bad\"\n",
        "\n",
        "# === TEST SCRIPT ===\n",
        "if __name__ == \"__main__\":\n",
        "    code_review = CodeReviewModel()\n",
        "    test_code = \"def add(a, b): return a + b\"\n",
        "    print(f\"🚀 Prediction: {code_review.predict(test_code)}\")\n"
      ],
      "metadata": {
        "colab": {
          "base_uri": "https://localhost:8080/"
        },
        "id": "ukx-9qLw4kGL",
        "outputId": "0ce0df19-4efe-4d4e-bdd9-bb5287b7be71"
      },
      "execution_count": null,
      "outputs": [
        {
          "output_type": "stream",
          "name": "stdout",
          "text": [
            "🚀 Prediction: Bad\n"
          ]
        }
      ]
    },
    {
      "cell_type": "code",
      "source": [
        "code = \"\"\"\n",
        "# Your full training script goes here...\n",
        "import nltk\n",
        "import ast\n",
        "import numpy as np\n",
        "import pandas as pd\n",
        "import random\n",
        "import joblib\n",
        "from nltk.tokenize import word_tokenize\n",
        "from xgboost import XGBClassifier\n",
        "from imblearn.over_sampling import SMOTE\n",
        "from sklearn.feature_extraction.text import TfidfVectorizer\n",
        "from sklearn.model_selection import train_test_split\n",
        "from sklearn.metrics import accuracy_score, classification_report\n",
        "\n",
        "nltk.download(\"punkt\")\n",
        "\n",
        "good_code_samples = [(\"def add(a, b):\\n    return a + b\", \"Good\")]\n",
        "bad_code_samples = [(\"def add(a, b)\\n    return a + b\", \"Bad\")]\n",
        "\n",
        "while len(good_code_samples) < 50:\n",
        "    good_code_samples.append(random.choice(good_code_samples))\n",
        "while len(bad_code_samples) < 50:\n",
        "    bad_code_samples.append(random.choice(bad_code_samples))\n",
        "\n",
        "data = good_code_samples + bad_code_samples\n",
        "random.shuffle(data)\n",
        "\n",
        "df = pd.DataFrame(data, columns=[\"code\", \"label\"])\n",
        "\n",
        "vectorizer = TfidfVectorizer()\n",
        "X = vectorizer.fit_transform(df[\"code\"])\n",
        "joblib.dump(vectorizer, \"tfidf_vectorizer.pkl\")\n",
        "\n",
        "y = df[\"label\"].map({\"Good\": 1, \"Bad\": 0})\n",
        "X_train, X_test, y_train, y_test = train_test_split(X, y, test_size=0.2, random_state=42)\n",
        "\n",
        "smote = SMOTE(random_state=42)\n",
        "X_train_smote, y_train_smote = smote.fit_resample(X_train, y_train)\n",
        "\n",
        "clf = XGBClassifier(use_label_encoder=False, eval_metric='logloss', random_state=42)\n",
        "clf.fit(X_train_smote, y_train_smote)\n",
        "\n",
        "joblib.dump(clf, \"xgboost_code_review.pkl\")\n",
        "\n",
        "print(\"\\n✅ Model & vectorizer saved successfully!\")\n",
        "\"\"\"\n",
        "\n",
        "# Save the script\n",
        "with open(\"train.py\", \"w\") as file:\n",
        "    file.write(code)\n",
        "\n",
        "print(\"✅ train.py created successfully!\")\n"
      ],
      "metadata": {
        "colab": {
          "base_uri": "https://localhost:8080/"
        },
        "id": "TkHBwldE7MpA",
        "outputId": "26080f6f-e326-4ebf-876f-597a2dab443a"
      },
      "execution_count": null,
      "outputs": [
        {
          "output_type": "stream",
          "name": "stdout",
          "text": [
            "✅ train.py created successfully!\n"
          ]
        }
      ]
    },
    {
      "cell_type": "code",
      "source": [
        "from google.colab import files\n",
        "\n",
        "# Download the training script\n",
        "files.download(\"train.py\")\n"
      ],
      "metadata": {
        "colab": {
          "base_uri": "https://localhost:8080/",
          "height": 17
        },
        "id": "rs1iws7z7YLy",
        "outputId": "2b359d5f-ff26-42a2-9dd2-b2948c48cc4b"
      },
      "execution_count": null,
      "outputs": [
        {
          "output_type": "display_data",
          "data": {
            "text/plain": [
              "<IPython.core.display.Javascript object>"
            ],
            "application/javascript": [
              "\n",
              "    async function download(id, filename, size) {\n",
              "      if (!google.colab.kernel.accessAllowed) {\n",
              "        return;\n",
              "      }\n",
              "      const div = document.createElement('div');\n",
              "      const label = document.createElement('label');\n",
              "      label.textContent = `Downloading \"${filename}\": `;\n",
              "      div.appendChild(label);\n",
              "      const progress = document.createElement('progress');\n",
              "      progress.max = size;\n",
              "      div.appendChild(progress);\n",
              "      document.body.appendChild(div);\n",
              "\n",
              "      const buffers = [];\n",
              "      let downloaded = 0;\n",
              "\n",
              "      const channel = await google.colab.kernel.comms.open(id);\n",
              "      // Send a message to notify the kernel that we're ready.\n",
              "      channel.send({})\n",
              "\n",
              "      for await (const message of channel.messages) {\n",
              "        // Send a message to notify the kernel that we're ready.\n",
              "        channel.send({})\n",
              "        if (message.buffers) {\n",
              "          for (const buffer of message.buffers) {\n",
              "            buffers.push(buffer);\n",
              "            downloaded += buffer.byteLength;\n",
              "            progress.value = downloaded;\n",
              "          }\n",
              "        }\n",
              "      }\n",
              "      const blob = new Blob(buffers, {type: 'application/binary'});\n",
              "      const a = document.createElement('a');\n",
              "      a.href = window.URL.createObjectURL(blob);\n",
              "      a.download = filename;\n",
              "      div.appendChild(a);\n",
              "      a.click();\n",
              "      div.remove();\n",
              "    }\n",
              "  "
            ]
          },
          "metadata": {}
        },
        {
          "output_type": "display_data",
          "data": {
            "text/plain": [
              "<IPython.core.display.Javascript object>"
            ],
            "application/javascript": [
              "download(\"download_d1eb3fe6-9f73-43de-b3a1-243254a8fc5c\", \"train.py\", 1470)"
            ]
          },
          "metadata": {}
        }
      ]
    },
    {
      "cell_type": "code",
      "source": [
        "!python train.py"
      ],
      "metadata": {
        "colab": {
          "base_uri": "https://localhost:8080/"
        },
        "id": "YOeFxRQ14nNy",
        "outputId": "e297d460-0b68-4ca6-b2b2-f57f6b47017f"
      },
      "execution_count": null,
      "outputs": [
        {
          "output_type": "stream",
          "name": "stdout",
          "text": [
            "python3: can't open file '/content/train.py': [Errno 2] No such file or directory\n"
          ]
        }
      ]
    },
    {
      "cell_type": "code",
      "source": [
        "import joblib\n",
        "from sklearn.feature_extraction.text import TfidfVectorizer\n",
        "\n",
        "# Save the trained model\n",
        "joblib.dump(clf, \"xgboost_code_review.pkl\")\n",
        "\n",
        "# Save the TF-IDF vectorizer\n",
        "joblib.dump(vectorizer, \"tfidf_vectorizer.pkl\")\n",
        "\n",
        "print(\"✅ Model and vectorizer saved!\")\n"
      ],
      "metadata": {
        "id": "dxBFmYVySzhN",
        "colab": {
          "base_uri": "https://localhost:8080/"
        },
        "outputId": "2182ae86-ba58-4fbd-e153-7ddc504a0361"
      },
      "execution_count": null,
      "outputs": [
        {
          "output_type": "stream",
          "name": "stdout",
          "text": [
            "✅ Model and vectorizer saved!\n"
          ]
        }
      ]
    },
    {
      "cell_type": "code",
      "source": [
        "from google.colab import files\n",
        "\n",
        "# Download the model and vectorizer\n",
        "files.download(\"xgboost_code_review.pkl\")\n",
        "files.download(\"tfidf_vectorizer.pkl\")"
      ],
      "metadata": {
        "colab": {
          "base_uri": "https://localhost:8080/",
          "height": 17
        },
        "id": "1ZqwMmebylVY",
        "outputId": "c6c1c56f-51ee-4bd4-ec8f-8b5595255974"
      },
      "execution_count": null,
      "outputs": [
        {
          "output_type": "display_data",
          "data": {
            "text/plain": [
              "<IPython.core.display.Javascript object>"
            ],
            "application/javascript": [
              "\n",
              "    async function download(id, filename, size) {\n",
              "      if (!google.colab.kernel.accessAllowed) {\n",
              "        return;\n",
              "      }\n",
              "      const div = document.createElement('div');\n",
              "      const label = document.createElement('label');\n",
              "      label.textContent = `Downloading \"${filename}\": `;\n",
              "      div.appendChild(label);\n",
              "      const progress = document.createElement('progress');\n",
              "      progress.max = size;\n",
              "      div.appendChild(progress);\n",
              "      document.body.appendChild(div);\n",
              "\n",
              "      const buffers = [];\n",
              "      let downloaded = 0;\n",
              "\n",
              "      const channel = await google.colab.kernel.comms.open(id);\n",
              "      // Send a message to notify the kernel that we're ready.\n",
              "      channel.send({})\n",
              "\n",
              "      for await (const message of channel.messages) {\n",
              "        // Send a message to notify the kernel that we're ready.\n",
              "        channel.send({})\n",
              "        if (message.buffers) {\n",
              "          for (const buffer of message.buffers) {\n",
              "            buffers.push(buffer);\n",
              "            downloaded += buffer.byteLength;\n",
              "            progress.value = downloaded;\n",
              "          }\n",
              "        }\n",
              "      }\n",
              "      const blob = new Blob(buffers, {type: 'application/binary'});\n",
              "      const a = document.createElement('a');\n",
              "      a.href = window.URL.createObjectURL(blob);\n",
              "      a.download = filename;\n",
              "      div.appendChild(a);\n",
              "      a.click();\n",
              "      div.remove();\n",
              "    }\n",
              "  "
            ]
          },
          "metadata": {}
        },
        {
          "output_type": "display_data",
          "data": {
            "text/plain": [
              "<IPython.core.display.Javascript object>"
            ],
            "application/javascript": [
              "download(\"download_1db411af-eacf-4ae3-8646-8086d82e9d08\", \"xgboost_code_review.pkl\", 85552)"
            ]
          },
          "metadata": {}
        },
        {
          "output_type": "display_data",
          "data": {
            "text/plain": [
              "<IPython.core.display.Javascript object>"
            ],
            "application/javascript": [
              "\n",
              "    async function download(id, filename, size) {\n",
              "      if (!google.colab.kernel.accessAllowed) {\n",
              "        return;\n",
              "      }\n",
              "      const div = document.createElement('div');\n",
              "      const label = document.createElement('label');\n",
              "      label.textContent = `Downloading \"${filename}\": `;\n",
              "      div.appendChild(label);\n",
              "      const progress = document.createElement('progress');\n",
              "      progress.max = size;\n",
              "      div.appendChild(progress);\n",
              "      document.body.appendChild(div);\n",
              "\n",
              "      const buffers = [];\n",
              "      let downloaded = 0;\n",
              "\n",
              "      const channel = await google.colab.kernel.comms.open(id);\n",
              "      // Send a message to notify the kernel that we're ready.\n",
              "      channel.send({})\n",
              "\n",
              "      for await (const message of channel.messages) {\n",
              "        // Send a message to notify the kernel that we're ready.\n",
              "        channel.send({})\n",
              "        if (message.buffers) {\n",
              "          for (const buffer of message.buffers) {\n",
              "            buffers.push(buffer);\n",
              "            downloaded += buffer.byteLength;\n",
              "            progress.value = downloaded;\n",
              "          }\n",
              "        }\n",
              "      }\n",
              "      const blob = new Blob(buffers, {type: 'application/binary'});\n",
              "      const a = document.createElement('a');\n",
              "      a.href = window.URL.createObjectURL(blob);\n",
              "      a.download = filename;\n",
              "      div.appendChild(a);\n",
              "      a.click();\n",
              "      div.remove();\n",
              "    }\n",
              "  "
            ]
          },
          "metadata": {}
        },
        {
          "output_type": "display_data",
          "data": {
            "text/plain": [
              "<IPython.core.display.Javascript object>"
            ],
            "application/javascript": [
              "download(\"download_26c0bacd-6bd5-4c1e-9b04-6f4bb038b22b\", \"tfidf_vectorizer.pkl\", 1554)"
            ]
          },
          "metadata": {}
        }
      ]
    },
    {
      "cell_type": "code",
      "source": [
        "import joblib\n",
        "import pandas as pd\n",
        "from sklearn.feature_extraction.text import TfidfVectorizer\n",
        "\n",
        "# Example dataset (replace with your full dataset)\n",
        "data = [\n",
        "    \"def add(a, b): return a + b\",\n",
        "    \"class Calculator: def multiply(self, x, y): return x * y\",\n",
        "    \"def factorial(n): return 1 if n == 0 else n * factorial(n-1)\",\n",
        "    \"def is_even(n): return n % 2 == 0\",\n",
        "    \"x = 5 y = x + 2 print(y)\"  # Bad code\n",
        "]\n",
        "\n",
        "# Fit TF-IDF vectorizer on the full dataset\n",
        "vectorizer = TfidfVectorizer()\n",
        "X_train = vectorizer.fit_transform(data)  # Fit on all training examples\n",
        "\n",
        "# Save the trained vectorizer\n",
        "joblib.dump(vectorizer, \"tfidf_vectorizer.pkl\")\n",
        "\n",
        "print(\"✅ TF-IDF Vectorizer saved successfully!\")\n"
      ],
      "metadata": {
        "colab": {
          "base_uri": "https://localhost:8080/"
        },
        "id": "V6K97Wzw2wF3",
        "outputId": "5eee23d2-99f3-49b3-f497-3ad80867dfa8"
      },
      "execution_count": null,
      "outputs": [
        {
          "output_type": "stream",
          "name": "stdout",
          "text": [
            "✅ TF-IDF Vectorizer saved successfully!\n"
          ]
        }
      ]
    },
    {
      "cell_type": "code",
      "source": [
        "import joblib\n",
        "\n",
        "joblib.dump(clf, \"xgboost_code_review (1).pkl\")\n",
        "joblib.dump(vectorizer, \"tfidf_vectorizer (1).pkl\")"
      ],
      "metadata": {
        "colab": {
          "base_uri": "https://localhost:8080/"
        },
        "id": "fNJa9AfT-MwM",
        "outputId": "dcb4c99d-72f4-40fd-de6d-6873503659fa"
      },
      "execution_count": null,
      "outputs": [
        {
          "output_type": "execute_result",
          "data": {
            "text/plain": [
              "['tfidf_vectorizer (1).pkl']"
            ]
          },
          "metadata": {},
          "execution_count": 39
        }
      ]
    },
    {
      "cell_type": "code",
      "source": [
        "import joblib\n",
        "import numpy as np\n",
        "\n",
        "class CodeReviewModel:\n",
        "    def _init_(self, model_path=\"xgboost_code_review (1).pkl\", vectorizer_path=\"tfidf_vectorizer (1).pkl\"):\n",
        "        self.model = joblib.load(model_path)\n",
        "        self.vectorizer = joblib.load(vectorizer_path)\n",
        "\n",
        "    def predict(self, code_snippet: str):\n",
        "        # Vectorize the code\n",
        "        X = self.vectorizer.transform([code_snippet])  # list of 1 item\n",
        "        prediction = self.model.predict(X)\n",
        "        return prediction[0]  # Return single prediction"
      ],
      "metadata": {
        "id": "1zluIzS5-MeC"
      },
      "execution_count": null,
      "outputs": []
    },
    {
      "cell_type": "code",
      "source": [
        "\n",
        "class ReviewEngine:\n",
        "    def _init_(self):\n",
        "        self.model = CodeReviewModel()\n",
        "\n",
        "    def review_code(self, code_text):\n",
        "        prediction = self.model.predict(code_text)\n",
        "\n",
        "        # This is where you generate a human-readable comment\n",
        "        # Based on how you trained the model, adjust this logic\n",
        "        if prediction == 1:\n",
        "            return [\"✅ Code looks good!\"]\n",
        "        else:\n",
        "            return [\"⚠ Potential issue detected in the code.\"]"
      ],
      "metadata": {
        "id": "uVMIIYdFAEFj"
      },
      "execution_count": null,
      "outputs": []
    },
    {
      "cell_type": "code",
      "source": [
        "from fastapi import FastAPI\n",
        "from pydantic import BaseModel\n",
        "#from app.review_engine import ReviewEngine\n",
        "\n",
        "app = FastAPI()\n",
        "engine = ReviewEngine()\n",
        "\n",
        "class CodeRequest(BaseModel):\n",
        "    code: str\n",
        "\n",
        "@app.post(\"/review/\")\n",
        "def review(req: CodeRequest):\n",
        "    comments = engine.review_code(req.code)\n",
        "    return {\"comments\": comments}"
      ],
      "metadata": {
        "id": "42QtT1CBAD5z"
      },
      "execution_count": null,
      "outputs": []
    },
    {
      "cell_type": "code",
      "source": [
        "!pip install fastapi uvicorn nest-asyncio pyngrok"
      ],
      "metadata": {
        "colab": {
          "base_uri": "https://localhost:8080/"
        },
        "id": "3yTCDymGFGb_",
        "outputId": "690a0dbf-f168-474a-b778-8ad0e5b6064f"
      },
      "execution_count": null,
      "outputs": [
        {
          "output_type": "stream",
          "name": "stdout",
          "text": [
            "Requirement already satisfied: fastapi in /usr/local/lib/python3.11/dist-packages (0.115.12)\n",
            "Requirement already satisfied: uvicorn in /usr/local/lib/python3.11/dist-packages (0.34.0)\n",
            "Requirement already satisfied: nest-asyncio in /usr/local/lib/python3.11/dist-packages (1.6.0)\n",
            "Collecting pyngrok\n",
            "  Downloading pyngrok-7.2.3-py3-none-any.whl.metadata (8.7 kB)\n",
            "Requirement already satisfied: starlette<0.47.0,>=0.40.0 in /usr/local/lib/python3.11/dist-packages (from fastapi) (0.46.1)\n",
            "Requirement already satisfied: pydantic!=1.8,!=1.8.1,!=2.0.0,!=2.0.1,!=2.1.0,<3.0.0,>=1.7.4 in /usr/local/lib/python3.11/dist-packages (from fastapi) (2.11.2)\n",
            "Requirement already satisfied: typing-extensions>=4.8.0 in /usr/local/lib/python3.11/dist-packages (from fastapi) (4.13.1)\n",
            "Requirement already satisfied: click>=7.0 in /usr/local/lib/python3.11/dist-packages (from uvicorn) (8.1.8)\n",
            "Requirement already satisfied: h11>=0.8 in /usr/local/lib/python3.11/dist-packages (from uvicorn) (0.14.0)\n",
            "Requirement already satisfied: PyYAML>=5.1 in /usr/local/lib/python3.11/dist-packages (from pyngrok) (6.0.2)\n",
            "Requirement already satisfied: annotated-types>=0.6.0 in /usr/local/lib/python3.11/dist-packages (from pydantic!=1.8,!=1.8.1,!=2.0.0,!=2.0.1,!=2.1.0,<3.0.0,>=1.7.4->fastapi) (0.7.0)\n",
            "Requirement already satisfied: pydantic-core==2.33.1 in /usr/local/lib/python3.11/dist-packages (from pydantic!=1.8,!=1.8.1,!=2.0.0,!=2.0.1,!=2.1.0,<3.0.0,>=1.7.4->fastapi) (2.33.1)\n",
            "Requirement already satisfied: typing-inspection>=0.4.0 in /usr/local/lib/python3.11/dist-packages (from pydantic!=1.8,!=1.8.1,!=2.0.0,!=2.0.1,!=2.1.0,<3.0.0,>=1.7.4->fastapi) (0.4.0)\n",
            "Requirement already satisfied: anyio<5,>=3.6.2 in /usr/local/lib/python3.11/dist-packages (from starlette<0.47.0,>=0.40.0->fastapi) (4.9.0)\n",
            "Requirement already satisfied: idna>=2.8 in /usr/local/lib/python3.11/dist-packages (from anyio<5,>=3.6.2->starlette<0.47.0,>=0.40.0->fastapi) (3.10)\n",
            "Requirement already satisfied: sniffio>=1.1 in /usr/local/lib/python3.11/dist-packages (from anyio<5,>=3.6.2->starlette<0.47.0,>=0.40.0->fastapi) (1.3.1)\n",
            "Downloading pyngrok-7.2.3-py3-none-any.whl (23 kB)\n",
            "Installing collected packages: pyngrok\n",
            "Successfully installed pyngrok-7.2.3\n"
          ]
        }
      ]
    },
    {
      "cell_type": "code",
      "source": [
        "from fastapi import FastAPI\n",
        "from pydantic import BaseModel\n",
        "import nest_asyncio\n",
        "from pyngrok import ngrok\n",
        "import uvicorn\n",
        "\n",
        "# Needed to allow nested async loops in Colab\n",
        "nest_asyncio.apply()\n",
        "\n",
        "# Define your FastAPI app\n",
        "app = FastAPI()\n",
        "\n",
        "# Example model\n",
        "class CodeRequest(BaseModel):\n",
        "    code: str\n",
        "\n",
        "@app.post(\"/review/\")\n",
        "def review_code(req: CodeRequest):\n",
        "    return {\"comments\": [f\"📝 Review received for: {req.code[:30]}...\"]}"
      ],
      "metadata": {
        "id": "pg0jZVvgFGGl"
      },
      "execution_count": null,
      "outputs": []
    },
    {
      "cell_type": "code",
      "source": [
        "!ngrok config add-authtoken 2vXfemIfXawnnUbKOGeneR3W2ne_5qiT3DcLcFo1ZjVcP7RjZ"
      ],
      "metadata": {
        "colab": {
          "base_uri": "https://localhost:8080/"
        },
        "id": "a08jr8UELOs4",
        "outputId": "3447780b-7925-457d-ff3e-ebfab2e175cf"
      },
      "execution_count": null,
      "outputs": [
        {
          "output_type": "stream",
          "name": "stdout",
          "text": [
            "Authtoken saved to configuration file: /root/.config/ngrok/ngrok.yml\n"
          ]
        }
      ]
    },
    {
      "cell_type": "code",
      "source": [
        "public_url = ngrok.connect(8000)\n",
        "print(f\"🌐 Public FastAPI URL: {public_url}/docs\")"
      ],
      "metadata": {
        "colab": {
          "base_uri": "https://localhost:8080/"
        },
        "id": "JFF43HYlLXLy",
        "outputId": "f1a5ad92-2ad2-4c38-e693-3efbf724bf81"
      },
      "execution_count": null,
      "outputs": [
        {
          "output_type": "stream",
          "name": "stdout",
          "text": [
            "🌐 Public FastAPI URL: NgrokTunnel: \"https://0ea3-35-201-251-243.ngrok-free.app\" -> \"http://localhost:8000\"/docs\n"
          ]
        }
      ]
    },
    {
      "cell_type": "code",
      "source": [
        "from fastapi import FastAPI\n",
        "from pydantic import BaseModel\n",
        "import nest_asyncio\n",
        "import uvicorn\n",
        "from pyngrok import ngrok\n",
        "import threading\n",
        "\n",
        "# Apply patch for Colab\n",
        "nest_asyncio.apply()\n",
        "\n",
        "# FastAPI app\n",
        "app = FastAPI()\n",
        "\n",
        "from fastapi.middleware.cors import CORSMiddleware\n",
        "\n",
        "app.add_middleware(\n",
        "    CORSMiddleware,\n",
        "    allow_origins=[\"*\"],  # For development, allow all origins\n",
        "    allow_credentials=True,\n",
        "    allow_methods=[\"*\"],\n",
        "    allow_headers=[\"*\"],\n",
        ")\n",
        "\n",
        "# Pydantic model for input\n",
        "class CodeInput(BaseModel):\n",
        "    code: str\n",
        "\n",
        "# API route\n",
        "@app.post(\"/predict\")\n",
        "def predict(input: CodeInput):\n",
        "    # Dummy logic — replace with ML model later\n",
        "    return {\"review\": [\"Use descriptive variable names\", \"Avoid global variables\"]}\n",
        "\n",
        "# Start ngrok tunnel\n",
        "nest_asyncio.apply()\n",
        "public_url = ngrok.connect(8000)\n",
        "print(f\"🌐 Public FastAPI URL: {public_url}/docs\")\n",
        "\n",
        "# Start FastAPI server\n",
        "def run():\n",
        "    uvicorn.run(app, host=\"0.0.0.0\", port=8000)\n",
        "\n",
        "thread = threading.Thread(target=run)\n",
        "thread.start()\n"
      ],
      "metadata": {
        "colab": {
          "base_uri": "https://localhost:8080/"
        },
        "id": "MgwkFSiZL7tP",
        "outputId": "e4ccc8d7-e124-4f30-f301-65539e2438c8"
      },
      "execution_count": null,
      "outputs": [
        {
          "output_type": "stream",
          "name": "stdout",
          "text": [
            "🌐 Public FastAPI URL: NgrokTunnel: \"https://bc3a-35-201-251-243.ngrok-free.app\" -> \"http://localhost:8000\"/docs\n"
          ]
        },
        {
          "output_type": "stream",
          "name": "stderr",
          "text": [
            "INFO:     Started server process [471]\n",
            "INFO:     Waiting for application startup.\n"
          ]
        }
      ]
    },
    {
      "cell_type": "code",
      "source": [
        "from IPython.core.display import display, HTML\n",
        "\n",
        "display(HTML('''\n",
        "<!DOCTYPE html>\n",
        "<html>\n",
        "<head>\n",
        "  <title>AI Code Reviewer</title>\n",
        "  <style>\n",
        "    body { font-family: Arial, sans-serif; padding: 20px; }\n",
        "    textarea { width: 100%; height: 200px; font-family: monospace; }\n",
        "    button { padding: 10px 20px; margin-top: 10px; font-size: 16px; }\n",
        "    pre { background-color: #f4f4f4; padding: 15px; border-radius: 5px; }\n",
        "  </style>\n",
        "</head>\n",
        "<body>\n",
        "  <h2>🔍 Enter Your Code:</h2>\n",
        "  <textarea id=\"code\" placeholder=\"def hello():\\n    print('Hello world')\"></textarea>\n",
        "  <br>\n",
        "  <button onclick=\"sendCode()\">🚀 Analyze</button>\n",
        "\n",
        "  <h3>🧠 Review Suggestions:</h3>\n",
        "  <pre id=\"output\">Output will appear here...</pre>\n",
        "\n",
        "  <script>\n",
        "    const apiUrl = \"https://0ea3-35-201-251-243.ngrok-free.app/predict\"; // 🔗 Replace with updated ngrok if needed\n",
        "\n",
        "    async function sendCode() {\n",
        "      const code = document.getElementById(\"code\").value;\n",
        "      document.getElementById(\"output\").textContent = \"⏳ Sending request...\";\n",
        "\n",
        "      try {\n",
        "        const response = await fetch(apiUrl, {\n",
        "          method: \"POST\",\n",
        "          headers: {\n",
        "            \"Content-Type\": \"application/json\"\n",
        "          },\n",
        "          body: JSON.stringify({ code: code })\n",
        "        });\n",
        "\n",
        "        if (!response.ok) {\n",
        "          const err = await response.text();\n",
        "          console.error(\"❌ Server Error:\", err);\n",
        "          document.getElementById(\"output\").textContent = \"❌ Server Error \" + response.status + \":\\n\" + err;\n",
        "        } else {\n",
        "          const data = await response.json();\n",
        "          console.log(\"✅ Response Received:\", data);\n",
        "          document.getElementById(\"output\").textContent = JSON.stringify(data.review, null, 2);\n",
        "        }\n",
        "      } catch (error) {\n",
        "        console.error(\"❌ JS Fetch Error:\", error);\n",
        "        document.getElementById(\"output\").textContent = \"❌ JS Error: \" + error;\n",
        "      }\n",
        "    }\n",
        "  </script>\n",
        "</body>\n",
        "</html>\n",
        "'''))"
      ],
      "metadata": {
        "colab": {
          "base_uri": "https://localhost:8080/",
          "height": 440
        },
        "id": "0r07-2_FVWcp",
        "outputId": "1faf7b8f-7ee6-4886-fc42-214c37b5f7fb"
      },
      "execution_count": null,
      "outputs": [
        {
          "output_type": "display_data",
          "data": {
            "text/plain": [
              "<IPython.core.display.HTML object>"
            ],
            "text/html": [
              "\n",
              "<!DOCTYPE html>\n",
              "<html>\n",
              "<head>\n",
              "  <title>AI Code Reviewer</title>\n",
              "  <style>\n",
              "    body { font-family: Arial, sans-serif; padding: 20px; }\n",
              "    textarea { width: 100%; height: 200px; font-family: monospace; }\n",
              "    button { padding: 10px 20px; margin-top: 10px; font-size: 16px; }\n",
              "    pre { background-color: #f4f4f4; padding: 15px; border-radius: 5px; }\n",
              "  </style>\n",
              "</head>\n",
              "<body>\n",
              "  <h2>🔍 Enter Your Code:</h2>\n",
              "  <textarea id=\"code\" placeholder=\"def hello():\n",
              "    print('Hello world')\"></textarea>\n",
              "  <br>\n",
              "  <button onclick=\"sendCode()\">🚀 Analyze</button>\n",
              "\n",
              "  <h3>🧠 Review Suggestions:</h3>\n",
              "  <pre id=\"output\">Output will appear here...</pre>\n",
              "\n",
              "  <script>\n",
              "    const apiUrl = \"https://0ea3-35-201-251-243.ngrok-free.app/predict\"; // 🔗 Replace with updated ngrok if needed\n",
              "\n",
              "    async function sendCode() {\n",
              "      const code = document.getElementById(\"code\").value;\n",
              "      document.getElementById(\"output\").textContent = \"⏳ Sending request...\";\n",
              "\n",
              "      try {\n",
              "        const response = await fetch(apiUrl, {\n",
              "          method: \"POST\",\n",
              "          headers: {\n",
              "            \"Content-Type\": \"application/json\"\n",
              "          },\n",
              "          body: JSON.stringify({ code: code })\n",
              "        });\n",
              "\n",
              "        if (!response.ok) {\n",
              "          const err = await response.text();\n",
              "          console.error(\"❌ Server Error:\", err);\n",
              "          document.getElementById(\"output\").textContent = \"❌ Server Error \" + response.status + \":\n",
              "\" + err;\n",
              "        } else {\n",
              "          const data = await response.json();\n",
              "          console.log(\"✅ Response Received:\", data);\n",
              "          document.getElementById(\"output\").textContent = JSON.stringify(data.review, null, 2);\n",
              "        }\n",
              "      } catch (error) {\n",
              "        console.error(\"❌ JS Fetch Error:\", error);\n",
              "        document.getElementById(\"output\").textContent = \"❌ JS Error: \" + error;\n",
              "      }\n",
              "    }\n",
              "  </script>\n",
              "</body>\n",
              "</html>\n"
            ]
          },
          "metadata": {}
        }
      ]
    },
    {
      "cell_type": "code",
      "source": [
        "def calci(a,b):\n",
        "  s=a+b\n",
        "  d=a-b\n",
        "  return s,d\n",
        "\n",
        "a=int(input(\"Enter a: \"))\n",
        "b=int(input(\"Enter b: \"))\n",
        "p=calci(a,b)"
      ],
      "metadata": {
        "id": "Nw4m8aDxPKgB"
      },
      "execution_count": null,
      "outputs": []
    },
    {
      "cell_type": "code",
      "source": [
        "p\n",
        "# Run FastAPI app\n",
        "#uvicorn.run(app, host=\"0.0.0.0\", port=8000)"
      ],
      "metadata": {
        "colab": {
          "base_uri": "https://localhost:8080/",
          "height": 176
        },
        "id": "uZYKUPKbADo0",
        "outputId": "b928c0de-ae20-4ff9-aa53-f76aef92f6bb"
      },
      "execution_count": null,
      "outputs": [
        {
          "output_type": "error",
          "ename": "NameError",
          "evalue": "name 'p' is not defined",
          "traceback": [
            "\u001b[0;31m---------------------------------------------------------------------------\u001b[0m",
            "\u001b[0;31mNameError\u001b[0m                                 Traceback (most recent call last)",
            "\u001b[0;32m<ipython-input-58-5d016c37c5fe>\u001b[0m in \u001b[0;36m<cell line: 0>\u001b[0;34m()\u001b[0m\n\u001b[0;32m----> 1\u001b[0;31m \u001b[0mp\u001b[0m\u001b[0;34m\u001b[0m\u001b[0;34m\u001b[0m\u001b[0m\n\u001b[0m\u001b[1;32m      2\u001b[0m \u001b[0;31m# Run FastAPI app\u001b[0m\u001b[0;34m\u001b[0m\u001b[0;34m\u001b[0m\u001b[0m\n\u001b[1;32m      3\u001b[0m \u001b[0;31m#uvicorn.run(app, host=\"0.0.0.0\", port=8000)\u001b[0m\u001b[0;34m\u001b[0m\u001b[0;34m\u001b[0m\u001b[0m\n",
            "\u001b[0;31mNameError\u001b[0m: name 'p' is not defined"
          ]
        }
      ]
    },
    {
      "cell_type": "code",
      "source": [],
      "metadata": {
        "id": "1FxbJkQtG-Nm"
      },
      "execution_count": null,
      "outputs": []
    },
    {
      "cell_type": "code",
      "source": [],
      "metadata": {
        "id": "gWPbU40ZG96_"
      },
      "execution_count": null,
      "outputs": []
    },
    {
      "cell_type": "code",
      "source": [
        "pip install fastapi uvicorn"
      ],
      "metadata": {
        "colab": {
          "base_uri": "https://localhost:8080/"
        },
        "id": "RUwIuQtry2_a",
        "outputId": "a7f5f854-ed5c-455e-da54-14054011ebc2"
      },
      "execution_count": null,
      "outputs": [
        {
          "output_type": "stream",
          "name": "stdout",
          "text": [
            "Collecting fastapi\n",
            "  Downloading fastapi-0.115.12-py3-none-any.whl.metadata (27 kB)\n",
            "Collecting uvicorn\n",
            "  Downloading uvicorn-0.34.0-py3-none-any.whl.metadata (6.5 kB)\n",
            "Collecting starlette<0.47.0,>=0.40.0 (from fastapi)\n",
            "  Downloading starlette-0.46.1-py3-none-any.whl.metadata (6.2 kB)\n",
            "Requirement already satisfied: pydantic!=1.8,!=1.8.1,!=2.0.0,!=2.0.1,!=2.1.0,<3.0.0,>=1.7.4 in /usr/local/lib/python3.11/dist-packages (from fastapi) (2.11.2)\n",
            "Requirement already satisfied: typing-extensions>=4.8.0 in /usr/local/lib/python3.11/dist-packages (from fastapi) (4.13.1)\n",
            "Requirement already satisfied: click>=7.0 in /usr/local/lib/python3.11/dist-packages (from uvicorn) (8.1.8)\n",
            "Requirement already satisfied: h11>=0.8 in /usr/local/lib/python3.11/dist-packages (from uvicorn) (0.14.0)\n",
            "Requirement already satisfied: annotated-types>=0.6.0 in /usr/local/lib/python3.11/dist-packages (from pydantic!=1.8,!=1.8.1,!=2.0.0,!=2.0.1,!=2.1.0,<3.0.0,>=1.7.4->fastapi) (0.7.0)\n",
            "Requirement already satisfied: pydantic-core==2.33.1 in /usr/local/lib/python3.11/dist-packages (from pydantic!=1.8,!=1.8.1,!=2.0.0,!=2.0.1,!=2.1.0,<3.0.0,>=1.7.4->fastapi) (2.33.1)\n",
            "Requirement already satisfied: typing-inspection>=0.4.0 in /usr/local/lib/python3.11/dist-packages (from pydantic!=1.8,!=1.8.1,!=2.0.0,!=2.0.1,!=2.1.0,<3.0.0,>=1.7.4->fastapi) (0.4.0)\n",
            "Requirement already satisfied: anyio<5,>=3.6.2 in /usr/local/lib/python3.11/dist-packages (from starlette<0.47.0,>=0.40.0->fastapi) (4.9.0)\n",
            "Requirement already satisfied: idna>=2.8 in /usr/local/lib/python3.11/dist-packages (from anyio<5,>=3.6.2->starlette<0.47.0,>=0.40.0->fastapi) (3.10)\n",
            "Requirement already satisfied: sniffio>=1.1 in /usr/local/lib/python3.11/dist-packages (from anyio<5,>=3.6.2->starlette<0.47.0,>=0.40.0->fastapi) (1.3.1)\n",
            "Downloading fastapi-0.115.12-py3-none-any.whl (95 kB)\n",
            "\u001b[2K   \u001b[90m━━━━━━━━━━━━━━━━━━━━━━━━━━━━━━━━━━━━━━━━\u001b[0m \u001b[32m95.2/95.2 kB\u001b[0m \u001b[31m4.9 MB/s\u001b[0m eta \u001b[36m0:00:00\u001b[0m\n",
            "\u001b[?25hDownloading uvicorn-0.34.0-py3-none-any.whl (62 kB)\n",
            "\u001b[2K   \u001b[90m━━━━━━━━━━━━━━━━━━━━━━━━━━━━━━━━━━━━━━━━\u001b[0m \u001b[32m62.3/62.3 kB\u001b[0m \u001b[31m3.8 MB/s\u001b[0m eta \u001b[36m0:00:00\u001b[0m\n",
            "\u001b[?25hDownloading starlette-0.46.1-py3-none-any.whl (71 kB)\n",
            "\u001b[2K   \u001b[90m━━━━━━━━━━━━━━━━━━━━━━━━━━━━━━━━━━━━━━━━\u001b[0m \u001b[32m72.0/72.0 kB\u001b[0m \u001b[31m3.9 MB/s\u001b[0m eta \u001b[36m0:00:00\u001b[0m\n",
            "\u001b[?25hInstalling collected packages: uvicorn, starlette, fastapi\n",
            "Successfully installed fastapi-0.115.12 starlette-0.46.1 uvicorn-0.34.0\n"
          ]
        }
      ]
    },
    {
      "cell_type": "code",
      "source": [],
      "metadata": {
        "id": "A_UI3mZL2I_i"
      },
      "execution_count": null,
      "outputs": []
    },
    {
      "cell_type": "code",
      "source": [],
      "metadata": {
        "id": "g3N2sWsYx-0C"
      },
      "execution_count": null,
      "outputs": []
    }
  ]
}